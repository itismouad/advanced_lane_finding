{
 "cells": [
  {
   "cell_type": "markdown",
   "metadata": {},
   "source": [
    "# videoPipeline"
   ]
  },
  {
   "cell_type": "markdown",
   "metadata": {},
   "source": [
    "**Author : Mouad HADJI, January 8th, 2018.**"
   ]
  },
  {
   "cell_type": "markdown",
   "metadata": {},
   "source": [
    "## 1. Import packages"
   ]
  },
  {
   "cell_type": "code",
   "execution_count": 1,
   "metadata": {},
   "outputs": [],
   "source": [
    "import os\n",
    "import sys\n",
    "import glob\n",
    "import pickle\n",
    "import cv2\n",
    "import random\n",
    "from scipy import ndimage\n",
    "from tqdm import tqdm\n",
    "import pandas as pd\n",
    "import numpy as np\n",
    "import matplotlib.pyplot as plt\n",
    "import matplotlib.image as mpimg\n",
    "from collections import deque\n",
    "from moviepy.editor import VideoFileClip\n",
    "\n",
    "from calibration import CameraCalibration\n",
    "from image_processing import ImageProcessing\n",
    "from lane_detection import LaneDetection\n",
    "from drawer import Drawer"
   ]
  },
  {
   "cell_type": "markdown",
   "metadata": {},
   "source": [
    "## 2. Load The Data"
   ]
  },
  {
   "cell_type": "markdown",
   "metadata": {},
   "source": [
    "We define here all the useful paths that we will use to import or export data during this project"
   ]
  },
  {
   "cell_type": "code",
   "execution_count": 2,
   "metadata": {},
   "outputs": [],
   "source": [
    "input_file = 'challenge_video.mp4'\n",
    "output_file = 'challenge_video_output.mp4'"
   ]
  },
  {
   "cell_type": "code",
   "execution_count": 3,
   "metadata": {},
   "outputs": [],
   "source": [
    "camera_calibration_path = os.path.join(os.getcwd(), \"camera_cal\")"
   ]
  },
  {
   "cell_type": "markdown",
   "metadata": {},
   "source": [
    "## 3. Line Class"
   ]
  },
  {
   "cell_type": "code",
   "execution_count": 4,
   "metadata": {},
   "outputs": [],
   "source": [
    "class Line():\n",
    "    \n",
    "    def __init__(self, frames_to_keep):\n",
    "        # was the line detected in the last iteration?\n",
    "        self.detected = False  \n",
    "        \n",
    "        # x values of the last n fits of the line\n",
    "        self.recent_xfitted = deque(maxlen=frames_to_keep) # []\n",
    "        \n",
    "        # polynomial coefficients averaged over the last n iterations\n",
    "        self.best_fit = None  \n",
    "        \n",
    "        # polynomial coefficients for the most recent fit\n",
    "        self.current_fit = [np.array([False])]\n",
    "        \n",
    "        # polynomial coefficients for the most recent fit in real world metrics\n",
    "        self.current_fit_curve = [np.array([False])] \n",
    "        \n",
    "        # radius of curvature of the line in some units\n",
    "        self.radius_of_curvature = None \n",
    "\n",
    "        # detected line pixels\n",
    "        self.lane_idx = deque(maxlen=frames_to_keep)"
   ]
  },
  {
   "cell_type": "markdown",
   "metadata": {},
   "source": [
    "## 4. videoPipeline Class"
   ]
  },
  {
   "cell_type": "code",
   "execution_count": 5,
   "metadata": {},
   "outputs": [],
   "source": [
    "class videoPipeline():\n",
    "    \n",
    "    def __init__(self, frames_to_keep=10):\n",
    "        \n",
    "        # initialize helpers class\n",
    "        self.CC = CameraCalibration(camera_calibration_path)\n",
    "        self.IP = ImageProcessing()\n",
    "        self.LD = LaneDetection(self.IP)\n",
    "        self.Dr = Drawer(self.LD)\n",
    "        \n",
    "        self.left_line = Line(frames_to_keep)\n",
    "        self.right_line = Line(frames_to_keep)\n",
    "        \n",
    "        self.current_lines_info = []\n",
    "        \n",
    "        # curvature info\n",
    "        self.curvature = None\n",
    "        self.curve_good = None\n",
    "        \n",
    "        # change history\n",
    "        self.fit_change_hist = []\n",
    "        self.curve_change_hist = []\n",
    "        \n",
    "        \n",
    "    def calculate_lines_info(self, img):\n",
    "        \"\"\"\n",
    "        Find and draw the lane lines on the image `img`.\n",
    "        \"\"\"\n",
    "        # Gather fits\n",
    "        left_fit, right_fit, left_fit_curve, right_fit_curve, _, _, _, _, _ = self.LD.detect_lanes(img)\n",
    "\n",
    "        # Gather curvature\n",
    "        left_curvature, right_curvature = self.LD.get_curvature(self.LD.yRange, left_fit_curve), self.LD.get_curvature(self.LD.yRange, right_fit_curve)\n",
    "\n",
    "        # Calculate vehicle center\n",
    "        x_max = img.shape[1]*self.LD.xm_per_pix\n",
    "        y_max = img.shape[0]*self.LD.ym_per_pix\n",
    "        vehicle_center = x_max / 2\n",
    "\n",
    "        # Calculate delta between vehicle center and lane center\n",
    "        left_line = left_fit_curve[0]*y_max**2 + left_fit_curve[1]*y_max + left_fit_curve[2]\n",
    "        right_line = right_fit_curve[0]*y_max**2 + right_fit_curve[1]*y_max + right_fit_curve[2]\n",
    "        center_line = left_line + (right_line - left_line)/2\n",
    "        delta_from_center = center_line - vehicle_center\n",
    "\n",
    "        return [left_fit, right_fit, left_fit_curve, right_fit_curve, left_curvature, right_curvature, delta_from_center]\n",
    "\n",
    "    \n",
    "    def display_info(self, img, lines_info, font = cv2.FONT_HERSHEY_SIMPLEX, font_scale=1, font_color = (255, 255, 255)):\n",
    "\n",
    "        left_fit, right_fit, _, _, left_curvature, right_curvature, delta_from_center = lines_info\n",
    "\n",
    "        output = self.Dr.draw_line(img, left_fit, right_fit)\n",
    "\n",
    "        # Adjust message\n",
    "        message = '{:.2f} m right'.format(delta_from_center) if delta_from_center > 0 else '{:.2f} m left'.format(-delta_from_center)\n",
    "\n",
    "        # Add info\n",
    "        cv2.putText(output, 'Left curvature: {:.0f} m'.format(left_curvature), (50, 50), font, font_scale, font_color, 2)\n",
    "        cv2.putText(output, 'Right curvature: {:.0f} m'.format(right_curvature), (50, 120), font, font_scale, font_color, 2)\n",
    "        cv2.putText(output, 'Vehicle is {} of center'.format(message), (50, 190), font, font_scale, font_color, 2)\n",
    "        return output\n",
    "    \n",
    "    \n",
    "    def static_processing(self, img):\n",
    "        lines_info = self.calculate_lines_info(img)\n",
    "        return self.display_info(img, lines_info)\n",
    "        \n",
    "\n",
    "    def dynamic_processing(self, img):\n",
    "        \n",
    "        lines_info = self.calculate_lines_info(img)\n",
    "        \n",
    "        left_fit, right_fit, left_fit_curve, right_fit_curve, left_curvature, right_curvature, delta_from_center = lines_info\n",
    "        \n",
    "        if left_curvature > 10000:\n",
    "            left_fit = self.left_line.current_fit\n",
    "            left_fit_curve = self.left_line.current_fit_curve\n",
    "            left_curvature = self.left_line.radius_of_curvature\n",
    "        else:\n",
    "            self.left_line.current_fit = left_fit\n",
    "            self.left_line.current_fit_curve = left_fit_curve\n",
    "            self.left_line.radius_of_curvature = left_curvature\n",
    "        \n",
    "        if right_curvature > 10000:\n",
    "            right_fit = self.right_line.current_fit\n",
    "            right_fit_curve = self.right_line.current_fit_curve\n",
    "            right_curvature = self.right_line.radius_of_curvature\n",
    "        else:\n",
    "            self.right_line.current_fit = right_fit\n",
    "            self.right_line.current_fit_curve = right_fit_curve\n",
    "            self.right_line.radius_of_curvature = right_curvature\n",
    "        \n",
    "        safe_lines_info = left_fit, right_fit, left_fit_curve, right_fit_curve, left_curvature, right_curvature, delta_from_center\n",
    "        \n",
    "        return self.display_info(img, safe_lines_info)\n",
    "\n",
    "    \n",
    "    def run(self, input_video, output_video):\n",
    "        \n",
    "        raw_clip = VideoFileClip(input_video)\n",
    "        processed_clip = raw_clip.fl_image(self.dynamic_processing)\n",
    "        processed_clip.write_videofile(output_video, audio=False)"
   ]
  },
  {
   "cell_type": "code",
   "execution_count": 6,
   "metadata": {},
   "outputs": [],
   "source": [
    "vP = videoPipeline()"
   ]
  },
  {
   "cell_type": "code",
   "execution_count": 7,
   "metadata": {},
   "outputs": [
    {
     "name": "stdout",
     "output_type": "stream",
     "text": [
      "[MoviePy] >>>> Building video challenge_video_output.mp4\n",
      "[MoviePy] Writing video challenge_video_output.mp4\n"
     ]
    },
    {
     "name": "stderr",
     "output_type": "stream",
     "text": [
      "100%|██████████| 485/485 [08:42<00:00,  1.10s/it]\n"
     ]
    },
    {
     "name": "stdout",
     "output_type": "stream",
     "text": [
      "[MoviePy] Done.\n",
      "[MoviePy] >>>> Video ready: challenge_video_output.mp4 \n",
      "\n"
     ]
    }
   ],
   "source": [
    "vP.run(input_file, output_file)"
   ]
  }
 ],
 "metadata": {
  "kernelspec": {
   "display_name": "Python 3",
   "language": "python",
   "name": "python3"
  },
  "language_info": {
   "codemirror_mode": {
    "name": "ipython",
    "version": 3
   },
   "file_extension": ".py",
   "mimetype": "text/x-python",
   "name": "python",
   "nbconvert_exporter": "python",
   "pygments_lexer": "ipython3",
   "version": "3.5.2"
  },
  "widgets": {
   "state": {},
   "version": "1.1.2"
  }
 },
 "nbformat": 4,
 "nbformat_minor": 2
}
